{
 "cells": [
  {
   "cell_type": "code",
   "execution_count": 3,
   "id": "6599d44a-a810-4668-977a-a083c467b168",
   "metadata": {},
   "outputs": [],
   "source": [
    "import PyPDF2\n",
    "import os"
   ]
  },
  {
   "cell_type": "code",
   "execution_count": 4,
   "id": "e8d0176e-65a9-422f-a00b-299f7497eb81",
   "metadata": {},
   "outputs": [],
   "source": [
    "def extract_text_from_pdf(pdf_path):\n",
    "    with open(pdf_path, 'rb') as pdf_file:\n",
    "        pdf_reader = PyPDF2.PdfReader(pdf_file)\n",
    "        text = ''\n",
    "        for page_num in range(len(pdf_reader.pages)):\n",
    "            text += pdf_reader.pages[page_num].extract_text()\n",
    "        return text"
   ]
  },
  {
   "cell_type": "code",
   "execution_count": 5,
   "id": "bda3abc2-58f5-4d59-9043-4dd70f8e65d5",
   "metadata": {},
   "outputs": [],
   "source": [
    "def save_text_to_file(text, output_filename):\n",
    "    with open(output_filename, 'w', encoding='utf-8') as output_file:\n",
    "        output_file.write(text)"
   ]
  },
  {
   "cell_type": "code",
   "execution_count": 6,
   "id": "6b0d7d79-e3f5-4819-9f8b-b9459b69f74a",
   "metadata": {},
   "outputs": [],
   "source": [
    "def process_pdfs_in_directory(directory_path):\n",
    "    for filename in os.listdir(directory_path):\n",
    "        if filename.endswith(\".pdf\"):\n",
    "            pdf_path = os.path.join(directory_path, filename)\n",
    "            output_text_filename = f\"{os.path.splitext(filename)[0]}.txt\"\n",
    "\n",
    "            extracted_text = extract_text_from_pdf(pdf_path)\n",
    "            save_text_to_file(extracted_text, output_text_filename)\n",
    "            print(f\"Text extracted and saved to {output_text_filename}\")"
   ]
  },
  {
   "cell_type": "code",
   "execution_count": 7,
   "id": "9b4af1b8-91da-4142-be4c-a3017e896a50",
   "metadata": {},
   "outputs": [],
   "source": [
    "def main():\n",
    "    pdfs_directory_path = \"C:/Users/aptea/OneDrive/Documents/NEU/Sem6/BDIA/Assignment 2/Archive 2\"  # Replace with the actual path to your directory containing PDFs\n",
    "    process_pdfs_in_directory(pdfs_directory_path)"
   ]
  },
  {
   "cell_type": "code",
   "execution_count": 8,
   "id": "1c1787be-8301-45df-9a6d-a901b5cbfdae",
   "metadata": {},
   "outputs": [
    {
     "name": "stdout",
     "output_type": "stream",
     "text": [
      "Text extracted and saved to 2024-l1-topics-combined-2.txt\n",
      "Text extracted and saved to 2024-l2-topics-combined-2.txt\n",
      "Text extracted and saved to 2024-l3-topics-combined-2.txt\n"
     ]
    }
   ],
   "source": [
    "if __name__ == \"__main__\":\n",
    "    main()"
   ]
  },
  {
   "cell_type": "code",
   "execution_count": null,
   "id": "533220c7-d14d-49e8-87b9-94927d541069",
   "metadata": {},
   "outputs": [],
   "source": []
  }
 ],
 "metadata": {
  "kernelspec": {
   "display_name": "Python 3 (ipykernel)",
   "language": "python",
   "name": "python3"
  },
  "language_info": {
   "codemirror_mode": {
    "name": "ipython",
    "version": 3
   },
   "file_extension": ".py",
   "mimetype": "text/x-python",
   "name": "python",
   "nbconvert_exporter": "python",
   "pygments_lexer": "ipython3",
   "version": "3.9.18"
  }
 },
 "nbformat": 4,
 "nbformat_minor": 5
}
