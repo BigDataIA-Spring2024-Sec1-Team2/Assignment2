{
 "cells": [
  {
   "cell_type": "markdown",
   "id": "5178e3ef-8da9-472b-9ab5-ab298dfa85da",
   "metadata": {},
   "source": [
    "## PDF Text Extraction using PyPDF package"
   ]
  },
  {
   "cell_type": "markdown",
   "id": "9ff51b29-54a0-47f8-a159-3bcc0624af90",
   "metadata": {},
   "source": [
    "### Importing required packages"
   ]
  },
  {
   "cell_type": "code",
   "execution_count": 25,
   "id": "6599d44a-a810-4668-977a-a083c467b168",
   "metadata": {},
   "outputs": [],
   "source": [
    "import PyPDF2\n",
    "import os"
   ]
  },
  {
   "cell_type": "markdown",
   "id": "4382bf59-28ac-4901-b8ea-e56019b75d19",
   "metadata": {},
   "source": [
    "### Function for extracting text from pdf using PyPDF2's PdfReader function"
   ]
  },
  {
   "cell_type": "code",
   "execution_count": 26,
   "id": "e8d0176e-65a9-422f-a00b-299f7497eb81",
   "metadata": {},
   "outputs": [],
   "source": [
    "def extract_text_from_pdf(pdf_path):\n",
    "    with open(pdf_path, 'rb') as pdf_file:\n",
    "        pdf_reader = PyPDF2.PdfReader(pdf_file)\n",
    "        text = ''\n",
    "        for page_num in range(len(pdf_reader.pages)):\n",
    "            text += pdf_reader.pages[page_num].extract_text()\n",
    "        return text"
   ]
  },
  {
   "cell_type": "markdown",
   "id": "1315184c-843b-473f-a459-e73ab8c9d8f7",
   "metadata": {},
   "source": [
    "### Function to iterate through all pdf files to perform text extraction on each file and save the respective output in .txt format"
   ]
  },
  {
   "cell_type": "code",
   "execution_count": 32,
   "id": "6b0d7d79-e3f5-4819-9f8b-b9459b69f74a",
   "metadata": {},
   "outputs": [],
   "source": [
    "def process_pdfs_in_directory(directory_path, output_dir):\n",
    "    # Iterate through all PDF files in the directory\n",
    "    for filename in os.listdir(directory_path):\n",
    "        if filename.endswith(\".pdf\"):\n",
    "            pdf_file_path = os.path.join(directory_path, filename)\n",
    "            print(\"Parsing file \",filename, \" saved at path \", pdf_file_path)\n",
    "            pdf_content = extract_text_from_pdf(pdf_file_path)\n",
    "            \n",
    "            # save to text file\n",
    "            year = filename.split(\"-\")[0]\n",
    "            level = filename.split(\"-\")[1]\n",
    "            new_name = \"PyPDF_RR_\"+year+\"_\"+level+\"_combined.txt\"\n",
    "            if pdf_content:\n",
    "                output_file_path = os.path.join(output_dir, new_name)\n",
    "                print(\"Saving PyPDF txt file \",new_name, \" at path \", output_file_path)\n",
    "                with open(output_file_path, 'w', encoding='utf-8') as output_file:\n",
    "                    output_file.write(pdf_content)\n",
    "                    print(\"Saved the txt file to \" + output_file_path)\n",
    "            else:\n",
    "                print(\"No content for this file\")\n",
    "        "
   ]
  },
  {
   "cell_type": "markdown",
   "id": "226a8714-55af-45d2-bd9b-7f2c47513d82",
   "metadata": {},
   "source": [
    "### Main function definition"
   ]
  },
  {
   "cell_type": "code",
   "execution_count": 33,
   "id": "9b4af1b8-91da-4142-be4c-a3017e896a50",
   "metadata": {},
   "outputs": [],
   "source": [
    "def main():\n",
    "    pdfs_directory_path = \"../data\"  # Replace with the actual path to your directory containing PDFs\n",
    "    output_dir = \"../sample_output/PyPDF\"\n",
    "    process_pdfs_in_directory(pdfs_directory_path, output_dir)"
   ]
  },
  {
   "cell_type": "markdown",
   "id": "0d981b7e-c0b1-4d70-a019-2f17488277a7",
   "metadata": {},
   "source": [
    "### Driver Code"
   ]
  },
  {
   "cell_type": "code",
   "execution_count": 35,
   "id": "1c1787be-8301-45df-9a6d-a901b5cbfdae",
   "metadata": {},
   "outputs": [
    {
     "name": "stdout",
     "output_type": "stream",
     "text": [
      "Parsing file  2024-l1-topics-combined-2.pdf  saved at path  ../data\\2024-l1-topics-combined-2.pdf\n",
      "Saving PyPDF txt file  PyPDF_RR_2024_l1_combined.txt  at path  ../sample_output/PyPDF\\PyPDF_RR_2024_l1_combined.txt\n",
      "Saved the txt file to ../sample_output/PyPDF\\PyPDF_RR_2024_l1_combined.txt\n",
      "Parsing file  2024-l2-topics-combined-2.pdf  saved at path  ../data\\2024-l2-topics-combined-2.pdf\n",
      "Saving PyPDF txt file  PyPDF_RR_2024_l2_combined.txt  at path  ../sample_output/PyPDF\\PyPDF_RR_2024_l2_combined.txt\n",
      "Saved the txt file to ../sample_output/PyPDF\\PyPDF_RR_2024_l2_combined.txt\n",
      "Parsing file  2024-l3-topics-combined-2.pdf  saved at path  ../data\\2024-l3-topics-combined-2.pdf\n",
      "Saving PyPDF txt file  PyPDF_RR_2024_l3_combined.txt  at path  ../sample_output/PyPDF\\PyPDF_RR_2024_l3_combined.txt\n",
      "Saved the txt file to ../sample_output/PyPDF\\PyPDF_RR_2024_l3_combined.txt\n"
     ]
    }
   ],
   "source": [
    "if __name__ == \"__main__\":\n",
    "    main()"
   ]
  }
 ],
 "metadata": {
  "kernelspec": {
   "display_name": "Python 3 (ipykernel)",
   "language": "python",
   "name": "python3"
  },
  "language_info": {
   "codemirror_mode": {
    "name": "ipython",
    "version": 3
   },
   "file_extension": ".py",
   "mimetype": "text/x-python",
   "name": "python",
   "nbconvert_exporter": "python",
   "pygments_lexer": "ipython3",
   "version": "3.9.18"
  }
 },
 "nbformat": 4,
 "nbformat_minor": 5
}
