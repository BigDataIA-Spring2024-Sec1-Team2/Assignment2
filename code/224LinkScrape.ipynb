{
 "cells": [
  {
   "cell_type": "code",
   "execution_count": 1,
   "id": "631ddfd9-c899-4185-bb75-3d1ad1a72c10",
   "metadata": {},
   "outputs": [],
   "source": [
    "from selenium import webdriver\n",
    "from bs4 import BeautifulSoup\n",
    "import time"
   ]
  },
  {
   "cell_type": "code",
   "execution_count": 2,
   "id": "249b86ae-acb9-48de-a0b1-9114eed113aa",
   "metadata": {},
   "outputs": [],
   "source": [
    "def scrape_coveo_links(url):\n",
    "    # Set up the WebDriver with the command line flag for Edge\n",
    "    edge_options = webdriver.EdgeOptions()\n",
    "    edge_options.add_argument('--enable-chrome-browser-cloud-management')\n",
    "\n",
    "    driver = webdriver.Edge(options=edge_options)\n",
    "\n",
    "    try:\n",
    "        # Make a request using Selenium\n",
    "        driver.get(url)\n",
    "\n",
    "        # Wait for the dynamic content to load (you may need to adjust the sleep duration)\n",
    "        time.sleep(5)\n",
    "\n",
    "        # Get the page source after dynamic content has loaded\n",
    "        page_source = driver.page_source\n",
    "\n",
    "        # Parse the HTML content of the page\n",
    "        soup = BeautifulSoup(page_source, 'html.parser')\n",
    "\n",
    "        # Find all the links with class 'coveo'\n",
    "        coveo_links = soup.find_all('a', class_='CoveoResultLink')\n",
    "\n",
    "        # Extract and write the href attribute of each coveo link to a file\n",
    "        with open(\"coveo_links.txt\", \"a\") as file:\n",
    "            for link in coveo_links:\n",
    "                href = link.get('href')\n",
    "                if href:\n",
    "                    file.write(href + '\\n')\n",
    "\n",
    "        # Print the total number of coveo links\n",
    "        print(f\"Total number of Coveo class links: {len(coveo_links)}\")\n",
    "        print(\"Coveo class links saved to 'coveo_links.txt'\")\n",
    "\n",
    "    finally:\n",
    "        # Close the WebDriver in a 'finally' block to ensure it is closed even if an exception occurs\n",
    "        driver.quit()"
   ]
  },
  {
   "cell_type": "code",
   "execution_count": 3,
   "id": "22b98bfb-1f98-45aa-b941-7f691e79bbfd",
   "metadata": {},
   "outputs": [
    {
     "name": "stdout",
     "output_type": "stream",
     "text": [
      "Total number of Coveo class links: 24\n",
      "Coveo class links saved to 'coveo_links.txt'\n",
      "Total number of Coveo class links: 100\n",
      "Coveo class links saved to 'coveo_links.txt'\n",
      "Total number of Coveo class links: 100\n",
      "Coveo class links saved to 'coveo_links.txt'\n"
     ]
    }
   ],
   "source": [
    "count = 2\n",
    "while(count>=0):\n",
    "    url = f\"https://www.cfainstitute.org/en/membership/professional-development/refresher-readings#first={count*100}&sort=%40refreadingcurriculumyear%20descending&numberOfResults=100\"\n",
    "    scrape_coveo_links(url)\n",
    "    count = count - 1 "
   ]
  },
  {
   "cell_type": "code",
   "execution_count": null,
   "id": "94f19310-9f7f-42ff-b1d3-9082ace1ec66",
   "metadata": {},
   "outputs": [],
   "source": []
  }
 ],
 "metadata": {
  "kernelspec": {
   "display_name": "Python 3 (ipykernel)",
   "language": "python",
   "name": "python3"
  },
  "language_info": {
   "codemirror_mode": {
    "name": "ipython",
    "version": 3
   },
   "file_extension": ".py",
   "mimetype": "text/x-python",
   "name": "python",
   "nbconvert_exporter": "python",
   "pygments_lexer": "ipython3",
   "version": "3.9.18"
  }
 },
 "nbformat": 4,
 "nbformat_minor": 5
}
