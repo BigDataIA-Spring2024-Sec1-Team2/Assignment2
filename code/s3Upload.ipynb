{
 "cells": [
  {
   "cell_type": "code",
   "execution_count": 2,
   "id": "9bbcb75a-2a74-47c5-9138-69194d34dde5",
   "metadata": {},
   "outputs": [],
   "source": [
    "import os\n",
    "import boto3"
   ]
  },
  {
   "cell_type": "code",
   "execution_count": 3,
   "id": "ed825a94-6a01-4ed1-9405-ccc7e5ef3b0e",
   "metadata": {},
   "outputs": [],
   "source": [
    "def upload_text_files_to_s3(local_path, bucket_name, s3_folder):\n",
    "    # Create an S3 client\n",
    "    s3 = boto3.client('s3')\n",
    "\n",
    "    # Iterate through all files in the local directory\n",
    "    for filename in os.listdir(local_path):\n",
    "        if filename.endswith(\".txt\"):\n",
    "            local_file_path = os.path.join(local_path, filename)\n",
    "            s3_object_key = f\"{s3_folder}/{filename}\"\n",
    "\n",
    "            # Check if the file already exists in S3\n",
    "            try:\n",
    "                s3.head_object(Bucket=bucket_name, Key=s3_object_key)\n",
    "                print(f\"File {filename} already exists in S3. Overwriting...\")\n",
    "            except Exception as e:\n",
    "                # If the file doesn't exist, upload it\n",
    "                try:\n",
    "                    s3.upload_file(local_file_path, bucket_name, s3_object_key)\n",
    "                    print(f\"File {filename} uploaded successfully to S3: s3://{bucket_name}/{s3_object_key}\")\n",
    "                except Exception as upload_error:\n",
    "                    print(f\"Error uploading file {filename} to S3: {upload_error}\")"
   ]
  },
  {
   "cell_type": "code",
   "execution_count": 4,
   "id": "3604be20-f0a4-4f59-8c5f-b4cfc35c6c02",
   "metadata": {},
   "outputs": [
    {
     "name": "stdout",
     "output_type": "stream",
     "text": [
      "File 2024-l1-topics-combined-2.txt already exists in S3. Overwriting...\n",
      "File 2024-l1-topics-combined-2_extracted_text.txt already exists in S3. Overwriting...\n",
      "File 2024-l2-topics-combined-2.txt already exists in S3. Overwriting...\n",
      "File 2024-l2-topics-combined-2_extracted_text.txt already exists in S3. Overwriting...\n",
      "File 2024-l3-topics-combined-2.txt already exists in S3. Overwriting...\n",
      "File 2024-l3-topics-combined-2_extracted_text.txt already exists in S3. Overwriting...\n",
      "File coveo_links.txt already exists in S3. Overwriting...\n"
     ]
    }
   ],
   "source": [
    "# Replace these values with your actual AWS credentials, local path, bucket name, and S3 folder\n",
    "# aws_access_key = 'your_access_key'\n",
    "# aws_secret_key = 'your_secret_key'\n",
    "local_path = 'C:/Users/aptea/OneDrive/Documents/NEU/Sem6/BDIA/Assignment 2'\n",
    "s3_bucket_name = 'cfa-pdfs'\n",
    "s3_folder_name = 'pypdf'\n",
    "\n",
    "# Upload only new text files or overwrite existing ones in the specified S3 folder\n",
    "upload_text_files_to_s3(local_path, s3_bucket_name, s3_folder_name)"
   ]
  },
  {
   "cell_type": "code",
   "execution_count": null,
   "id": "d9c0721e-c3e6-4a33-b1a8-a3911792eb6d",
   "metadata": {},
   "outputs": [],
   "source": []
  }
 ],
 "metadata": {
  "kernelspec": {
   "display_name": "Python 3 (ipykernel)",
   "language": "python",
   "name": "python3"
  },
  "language_info": {
   "codemirror_mode": {
    "name": "ipython",
    "version": 3
   },
   "file_extension": ".py",
   "mimetype": "text/x-python",
   "name": "python",
   "nbconvert_exporter": "python",
   "pygments_lexer": "ipython3",
   "version": "3.9.18"
  }
 },
 "nbformat": 4,
 "nbformat_minor": 5
}
