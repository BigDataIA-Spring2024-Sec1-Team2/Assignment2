{
 "cells": [
  {
   "cell_type": "markdown",
   "id": "29bd8dbc",
   "metadata": {},
   "source": [
    "# GROBID"
   ]
  },
  {
   "cell_type": "code",
   "execution_count": 1,
   "id": "902994a6",
   "metadata": {},
   "outputs": [],
   "source": [
    "# !pip install pygrobid"
   ]
  },
  {
   "cell_type": "markdown",
   "id": "0a7345e1",
   "metadata": {},
   "source": [
    "### Cloned grobid python client\n",
    "`git clone https://github.com/kermitt2/grobid_client_python`<br>\n",
    "`cd grobid_client_python`<br>\n",
    "`python3 setup.py install`"
   ]
  },
  {
   "cell_type": "code",
   "execution_count": 2,
   "id": "f7b613ab",
   "metadata": {},
   "outputs": [
    {
     "name": "stdout",
     "output_type": "stream",
     "text": [
      "/Users/sayalidalvi/Documents/Big_data/Assignment_2/Case_Study_2/code\r\n"
     ]
    }
   ],
   "source": [
    "! pwd"
   ]
  },
  {
   "cell_type": "code",
   "execution_count": 3,
   "id": "31e51d32",
   "metadata": {
    "scrolled": true
   },
   "outputs": [
    {
     "name": "stdout",
     "output_type": "stream",
     "text": [
      "/Users/sayalidalvi/Documents/Big_data/Assignment_2/Case_Study_2/grobid_client_python\n"
     ]
    }
   ],
   "source": [
    "%cd ../grobid_client_python"
   ]
  },
  {
   "cell_type": "code",
   "execution_count": 4,
   "id": "3a68c0ff",
   "metadata": {},
   "outputs": [
    {
     "name": "stdout",
     "output_type": "stream",
     "text": [
      "/Users/sayalidalvi/Documents/Big_data/Assignment_2/Case_Study_2/grobid_client_python\r\n"
     ]
    }
   ],
   "source": [
    "! pwd"
   ]
  },
  {
   "cell_type": "markdown",
   "id": "b08bc6cf",
   "metadata": {},
   "source": [
    "Start grobid server on docker"
   ]
  },
  {
   "cell_type": "markdown",
   "id": "7ae8255e",
   "metadata": {},
   "source": [
    "### Verifying the installation"
   ]
  },
  {
   "cell_type": "code",
   "execution_count": 5,
   "id": "696ab540",
   "metadata": {},
   "outputs": [
    {
     "name": "stdout",
     "output_type": "stream",
     "text": [
      "usage: grobid_client.py [-h] [--input INPUT] [--output OUTPUT]\r\n",
      "                        [--config CONFIG] [--n N] [--generateIDs]\r\n",
      "                        [--consolidate_header] [--consolidate_citations]\r\n",
      "                        [--include_raw_citations] [--include_raw_affiliations]\r\n",
      "                        [--force] [--teiCoordinates] [--segmentSentences]\r\n",
      "                        [--verbose]\r\n",
      "                        service\r\n",
      "grobid_client.py: error: the following arguments are required: service\r\n"
     ]
    }
   ],
   "source": [
    "!python3 -m grobid_client.grobid_client "
   ]
  },
  {
   "cell_type": "markdown",
   "id": "74cc6efd",
   "metadata": {},
   "source": [
    "### Using Grobid Python Client"
   ]
  },
  {
   "cell_type": "code",
   "execution_count": 7,
   "id": "edf3b27f",
   "metadata": {},
   "outputs": [
    {
     "name": "stdout",
     "output_type": "stream",
     "text": [
      "GROBID server is up and running\n"
     ]
    }
   ],
   "source": [
    "from grobid_client.grobid_client import GrobidClient\n",
    "\n",
    "client = GrobidClient(config_path=\"./config.json\")\n",
    "client.process(\"processFulltextDocument\", \"./resources/test_pdf\",\n",
    "                   output=\"./resources/test_out/\", consolidate_citations=True, tei_coordinates=True, force=True)"
   ]
  },
  {
   "cell_type": "markdown",
   "id": "f329693f",
   "metadata": {},
   "source": [
    "Pros:\n",
    "- Processes all the documents under test_pdf folder\n",
    "- Saves all of them to the output directory\n",
    "\n",
    "Limitations:\n",
    "- Saves in .xml files, we need .txt files\n",
    "- Do not return the xml in the program, we cannot perform any extra processing."
   ]
  },
  {
   "cell_type": "markdown",
   "id": "e3e7f31e",
   "metadata": {},
   "source": [
    "### Using Grobid web service API"
   ]
  },
  {
   "cell_type": "code",
   "execution_count": 8,
   "id": "479abd10",
   "metadata": {},
   "outputs": [],
   "source": [
    "# ! curl -v --form input=@./thefile.pdf localhost:8070/api/processFulltextDocument"
   ]
  },
  {
   "cell_type": "code",
   "execution_count": 9,
   "id": "64f9e34d",
   "metadata": {},
   "outputs": [],
   "source": [
    "import requests\n",
    "\n",
    "def extract_grobid_api(file_name, file_path):\n",
    "    url = \"http://localhost:8070/api/processFulltextDocument\"\n",
    "\n",
    "    files = {'input': (file_name, open(file_path, 'rb'))}\n",
    "\n",
    "    # Make the POST request with the file\n",
    "    response = requests.post(url, files=files)\n",
    "    result = None\n",
    "\n",
    "    if response.status_code == 200:\n",
    "        print(\"POST request successful!\")\n",
    "#         print(response.text)\n",
    "        result = response.text\n",
    "    else:\n",
    "        print(f\"POST request failed with status code {response.status_code}\")\n",
    "        print(\"Response:\")\n",
    "        print(response.text)\n",
    "        \n",
    "    return result\n"
   ]
  },
  {
   "cell_type": "code",
   "execution_count": 10,
   "id": "e3e55ec1",
   "metadata": {},
   "outputs": [
    {
     "name": "stdout",
     "output_type": "stream",
     "text": [
      "Parsing file  2024-l3-topics-combined-2.pdf  saved at path  ../data/2024-l3-topics-combined-2.pdf\n",
      "POST request successful!\n",
      "Saving grobid txt file  Grobid_RR_2024_l3_combined.txt  at path  ../sample_output/Grobid/Grobid_RR_2024_l3_combined.txt\n",
      "Saved the txt file to ../sample_output/Grobid/Grobid_RR_2024_l3_combined.txt\n",
      "Parsing file  2024-l1-topics-combined-2.pdf  saved at path  ../data/2024-l1-topics-combined-2.pdf\n",
      "POST request successful!\n",
      "Saving grobid txt file  Grobid_RR_2024_l1_combined.txt  at path  ../sample_output/Grobid/Grobid_RR_2024_l1_combined.txt\n",
      "Saved the txt file to ../sample_output/Grobid/Grobid_RR_2024_l1_combined.txt\n",
      "Parsing file  2024-l2-topics-combined-2.pdf  saved at path  ../data/2024-l2-topics-combined-2.pdf\n",
      "POST request successful!\n",
      "Saving grobid txt file  Grobid_RR_2024_l2_combined.txt  at path  ../sample_output/Grobid/Grobid_RR_2024_l2_combined.txt\n",
      "Saved the txt file to ../sample_output/Grobid/Grobid_RR_2024_l2_combined.txt\n"
     ]
    }
   ],
   "source": [
    "import os\n",
    "\n",
    "pdf_directory = \"../data\"  \n",
    "output_dir = \"../sample_output/Grobid\"\n",
    "\n",
    "# Iterate through all PDF files in the directory\n",
    "for filename in os.listdir(pdf_directory):\n",
    "    if filename.endswith(\".pdf\"):\n",
    "        pdf_file_path = os.path.join(pdf_directory, filename)\n",
    "        print(\"Parsing file \",filename, \" saved at path \", pdf_file_path)\n",
    "        pdf_content = extract_grobid_api(filename, pdf_file_path)\n",
    "        \n",
    "        # save to text file\n",
    "        year = filename.split(\"-\")[0]\n",
    "        level = filename.split(\"-\")[1]\n",
    "        new_name = \"Grobid_RR_\"+year+\"_\"+level+\"_combined.txt\"\n",
    "        if pdf_content:\n",
    "            output_file_path = os.path.join(output_dir, new_name)\n",
    "            print(\"Saving grobid txt file \",new_name, \" at path \", output_file_path)\n",
    "            with open(output_file_path, 'w', encoding='utf-8') as output_file:\n",
    "                output_file.write(pdf_content)\n",
    "                print(\"Saved the txt file to \"+output_file_path)\n",
    "        else:\n",
    "            print(\"No content for this file\")\n",
    "        "
   ]
  },
  {
   "cell_type": "code",
   "execution_count": null,
   "id": "d1c83414",
   "metadata": {},
   "outputs": [],
   "source": []
  }
 ],
 "metadata": {
  "kernelspec": {
   "display_name": "Python 3 (ipykernel)",
   "language": "python",
   "name": "python3"
  },
  "language_info": {
   "codemirror_mode": {
    "name": "ipython",
    "version": 3
   },
   "file_extension": ".py",
   "mimetype": "text/x-python",
   "name": "python",
   "nbconvert_exporter": "python",
   "pygments_lexer": "ipython3",
   "version": "3.9.13"
  }
 },
 "nbformat": 4,
 "nbformat_minor": 5
}
