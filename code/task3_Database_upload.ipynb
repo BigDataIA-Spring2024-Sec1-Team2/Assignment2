{
 "cells": [
  {
   "cell_type": "markdown",
   "id": "63111362",
   "metadata": {},
   "source": [
    "# Database Upload\n",
    "- Utilize SQLAlchemy to upload the structured data from step 1 into a\n",
    "Snowflake database.\n",
    "- Prepare a Python notebook detailing this upload process."
   ]
  },
  {
   "cell_type": "markdown",
   "id": "9d8506e4",
   "metadata": {},
   "source": [
    "## Imports"
   ]
  },
  {
   "cell_type": "code",
   "execution_count": 1,
   "id": "e651f61c",
   "metadata": {},
   "outputs": [],
   "source": [
    "import warnings\n",
    "warnings.filterwarnings(\"ignore\")\n",
    "\n",
    "from sqlalchemy import Boolean, Column, Integer, String\n",
    "\n",
    "from sqlalchemy import create_engine\n",
    "from sqlalchemy.ext.declarative import declarative_base\n",
    "from dotenv import load_dotenv\n",
    "import os"
   ]
  },
  {
   "cell_type": "markdown",
   "id": "c05877de",
   "metadata": {},
   "source": [
    "## Loading properties from .env"
   ]
  },
  {
   "cell_type": "code",
   "execution_count": 2,
   "id": "fb2ba5c6",
   "metadata": {},
   "outputs": [
    {
     "data": {
      "text/plain": [
       "True"
      ]
     },
     "execution_count": 2,
     "metadata": {},
     "output_type": "execute_result"
    }
   ],
   "source": [
    "load_dotenv('../config/.env',override=True)"
   ]
  },
  {
   "cell_type": "code",
   "execution_count": 3,
   "id": "9af228c1",
   "metadata": {},
   "outputs": [],
   "source": [
    "def loadenv():\n",
    "    user = os.getenv(\"SNOWFLAKE_USER\")\n",
    "    password = os.getenv(\"SNOWFLAKE_PASSWORD\")\n",
    "    db = os.getenv(\"SNOWFLAKE_DATABASE\")\n",
    "    account_identifier = os.getenv(\"SNOWFLAKE_ACCOUNT_IDENTIFIER\")\n",
    "    wh = os.getenv(\"SNOWFLAKE_WAREHOUSE\")\n",
    "    return user,password ,db ,account_identifier,wh"
   ]
  },
  {
   "cell_type": "code",
   "execution_count": 4,
   "id": "78d83f30",
   "metadata": {},
   "outputs": [],
   "source": [
    "user , password, db, account_identifier, wh = loadenv()"
   ]
  },
  {
   "cell_type": "markdown",
   "id": "c170d98c",
   "metadata": {},
   "source": [
    "## Connection to Snowflake\n",
    "\n",
    "The below function establishes a connection to a Snowflake database. It takes two optional parameters: \n",
    "- `path`: specifies the path to a configuration file\n",
    "- `connection_test`: when set to True, performs a test connection <br>\n",
    "The function returns a snowflake connection object."
   ]
  },
  {
   "cell_type": "code",
   "execution_count": 5,
   "id": "32d9dab5",
   "metadata": {},
   "outputs": [],
   "source": [
    "def connectionToSnow(path='../config/.env',connection_test=False):\n",
    "    load_dotenv(path,override=True)\n",
    "    user, password, _, account_identifier,_ = loadenv()\n",
    "    engine = create_engine(\n",
    "        'snowflake://{user}:{password}@{account_identifier}/'.format(\n",
    "            user=user,\n",
    "            password=password,\n",
    "            account_identifier=account_identifier,\n",
    "        )\n",
    "    )\n",
    "    try:\n",
    "        connection = engine.connect()\n",
    "        results = connection.execute('select current_version()').fetchone()\n",
    "        print(results[0])\n",
    "        if connection_test:\n",
    "            connection.close()\n",
    "        else:\n",
    "            return connection\n",
    "    finally:\n",
    "        engine.dispose()\n",
    "    "
   ]
  },
  {
   "cell_type": "code",
   "execution_count": 6,
   "id": "287e6e5c",
   "metadata": {},
   "outputs": [
    {
     "name": "stdout",
     "output_type": "stream",
     "text": [
      "8.5.2\n"
     ]
    }
   ],
   "source": [
    "connection = connectionToSnow()"
   ]
  },
  {
   "cell_type": "markdown",
   "id": "1aff2a9f",
   "metadata": {},
   "source": [
    "## Utility function execute statements "
   ]
  },
  {
   "cell_type": "code",
   "execution_count": 7,
   "id": "bc4df2ad",
   "metadata": {},
   "outputs": [],
   "source": [
    "def execute(connection,query):\n",
    "    try:\n",
    "        results = connection.execute(query)\n",
    "    except Exception as e:\n",
    "        print(\"error-->\",e)\n",
    "    finally:\n",
    "        print(\"Done\")"
   ]
  },
  {
   "cell_type": "markdown",
   "id": "c95ef225",
   "metadata": {},
   "source": [
    "## Creating Database"
   ]
  },
  {
   "cell_type": "code",
   "execution_count": null,
   "id": "b11237d3",
   "metadata": {},
   "outputs": [],
   "source": [
    "drop_database_query = '''DROP DATABASE IF EXISTS {};'''.format(db)\n",
    "\n",
    "create_database_query = \"CREATE OR REPLACE DATABASE {};\".format(db)\n",
    "\n",
    "execute(connection, drop_database_query)\n",
    "execute(connection, create_database_query)"
   ]
  },
  {
   "cell_type": "markdown",
   "id": "f866166b",
   "metadata": {},
   "source": [
    "## Creating Warehouse"
   ]
  },
  {
   "cell_type": "code",
   "execution_count": null,
   "id": "911264f6",
   "metadata": {},
   "outputs": [],
   "source": [
    "create_warehouse = \"\"\"CREATE OR REPLACE WAREHOUSE {} WITH\n",
    "   WAREHOUSE_SIZE='X-SMALL'\n",
    "   AUTO_SUSPEND = 180\n",
    "   AUTO_RESUME = TRUE\n",
    "   INITIALLY_SUSPENDED=TRUE;\n",
    "   \"\"\".format(wh)\n",
    "\n",
    "execute(connection, create_warehouse)"
   ]
  },
  {
   "cell_type": "markdown",
   "id": "b696cc9d",
   "metadata": {},
   "source": [
    "## Creating table to save CSV"
   ]
  },
  {
   "cell_type": "code",
   "execution_count": null,
   "id": "3e628596",
   "metadata": {},
   "outputs": [],
   "source": [
    "drop_web_data_table = '''DROP TABLE IF EXISTS {};'''.format('CFA_WEB_DATA_R')\n",
    "\n",
    "create_web_data_table = '''CREATE TABLE {} (\n",
    "    pdf_link VARCHAR,\n",
    "    Parent_topic VARCHAR,\n",
    "    year VARCHAR,\n",
    "    level VARCHAR,\n",
    "    Introduction VARCHAR,\n",
    "    LearningOutcome VARCHAR,\n",
    "    Summary VARCHAR,\n",
    "    categories VARCHAR, \n",
    "    url VARCHAR,\n",
    "    topicName VARCHAR\n",
    ");'''.format('CFA_WEB_DATA_R')\n",
    "\n",
    "execute(connection, drop_web_data_table)\n",
    "execute(connection, create_web_data_table)\n"
   ]
  },
  {
   "cell_type": "markdown",
   "id": "ca46c33e",
   "metadata": {},
   "source": [
    "## Staging CSV \n",
    "Uploading CSV to a stage `DUMMY` and then copying it to the table"
   ]
  },
  {
   "cell_type": "code",
   "execution_count": 9,
   "id": "e3dc924a",
   "metadata": {},
   "outputs": [],
   "source": [
    "current_directory = os.getcwd()\n",
    "parent_directory = os.path.dirname(current_directory)\n",
    "file_path = parent_directory + \"/sample_output/\"\n",
    "\n",
    "\n",
    "create_stage = \"\"\"CREATE OR REPLACE STAGE DUMMY DIRECTORY = ( ENABLE = true );\"\"\"\n",
    "upload_to_stage  = \"\"\"PUT file://{}*.csv @{}.public.dummy;\"\"\".format(file_path,db)\n",
    "\n",
    "copy_stage_to_table = \"\"\"COPY INTO {}\n",
    "  FROM @{}.public.dummy\n",
    "  FILE_FORMAT = (type = csv field_optionally_enclosed_by='\"')\n",
    "  PATTERN = 'FinanceHub.csv.gz'\n",
    "  ON_ERROR = 'skip_file';\"\"\".format('CFA_WEB_DATA_R',db,)\n",
    "\n",
    "\n",
    "execute(connection, create_stage)\n",
    "execute(connection, upload_to_stage)\n",
    "execute(connection, copy_stage_to_table)"
   ]
  },
  {
   "cell_type": "code",
   "execution_count": null,
   "id": "fe1aa12b",
   "metadata": {},
   "outputs": [],
   "source": []
  }
 ],
 "metadata": {
  "kernelspec": {
   "display_name": "Python 3 (ipykernel)",
   "language": "python",
   "name": "python3"
  },
  "language_info": {
   "codemirror_mode": {
    "name": "ipython",
    "version": 3
   },
   "file_extension": ".py",
   "mimetype": "text/x-python",
   "name": "python",
   "nbconvert_exporter": "python",
   "pygments_lexer": "ipython3",
   "version": "3.9.18"
  }
 },
 "nbformat": 4,
 "nbformat_minor": 5
}
