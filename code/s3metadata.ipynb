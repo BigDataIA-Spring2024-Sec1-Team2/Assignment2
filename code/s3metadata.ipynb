{
 "cells": [
  {
   "cell_type": "code",
   "execution_count": 6,
   "id": "2425b71f-c608-4940-84ab-9584c6e29a86",
   "metadata": {},
   "outputs": [],
   "source": [
    "import boto3\n",
    "import os"
   ]
  },
  {
   "cell_type": "code",
   "execution_count": 20,
   "id": "af0cab7e-afad-47c7-bc74-be9430ea3cef",
   "metadata": {},
   "outputs": [],
   "source": [
    "access_key = 'your_access_key'\n",
    "secret_key = 'your_secret_key'\n",
    "bucket_name = 'my-cfa-pdfs'\n",
    "folder_key = 'pypdf/'\n",
    "output_folder = './metadata_output/'"
   ]
  },
  {
   "cell_type": "code",
   "execution_count": 21,
   "id": "820f99f6-614b-4ca1-b483-840379727a05",
   "metadata": {},
   "outputs": [],
   "source": [
    "# Create an S3 client\n",
    "# s3 = boto3.client('s3', aws_access_key_id=access_key, aws_secret_access_key=secret_key)\n",
    "s3 = boto3.client('s3')"
   ]
  },
  {
   "cell_type": "code",
   "execution_count": 22,
   "id": "e282ca51-1b2b-42bc-b984-7e32e2f01e1d",
   "metadata": {},
   "outputs": [
    {
     "name": "stdout",
     "output_type": "stream",
     "text": [
      "Saving metadata to individual files:\n",
      "Metadata saved to ./metadata_output/pypdf__metadata.txt\n",
      "Metadata saved to ./metadata_output/pypdf_2024-l1-topics-combined-2.txt_metadata.txt\n",
      "Metadata saved to ./metadata_output/pypdf_2024-l1-topics-combined-2_extracted_text.txt_metadata.txt\n",
      "Metadata saved to ./metadata_output/pypdf_2024-l2-topics-combined-2.txt_metadata.txt\n",
      "Metadata saved to ./metadata_output/pypdf_2024-l2-topics-combined-2_extracted_text.txt_metadata.txt\n",
      "Metadata saved to ./metadata_output/pypdf_2024-l3-topics-combined-2.txt_metadata.txt\n",
      "Metadata saved to ./metadata_output/pypdf_2024-l3-topics-combined-2_extracted_text.txt_metadata.txt\n",
      "Metadata saved to ./metadata_output/pypdf_coveo_links.txt_metadata.txt\n"
     ]
    }
   ],
   "source": [
    "try:\n",
    "    response = s3.list_objects_v2(Bucket=bucket_name, Prefix=folder_key)\n",
    "    objects = response.get('Contents', [])\n",
    "\n",
    "    if not objects:\n",
    "        print(\"No files found in the specified folder.\")\n",
    "    else:\n",
    "        # Create output folder if it doesn't exist\n",
    "        os.makedirs(output_folder, exist_ok=True)\n",
    "\n",
    "        # Save metadata to individual files\n",
    "        print(\"Saving metadata to individual files:\")\n",
    "        for obj in objects:\n",
    "            file_key = obj['Key']\n",
    "            try:\n",
    "                # Retrieve file metadata\n",
    "                file_metadata = s3.head_object(Bucket=bucket_name, Key=file_key)\n",
    "                \n",
    "                # Extract metadata values\n",
    "                last_modified = file_metadata['LastModified']\n",
    "                etag = file_metadata['ETag']\n",
    "                content_type = file_metadata.get('ContentType', 'N/A')\n",
    "                content_length = file_metadata['ContentLength']\n",
    "                s3_link = f\"s3://{bucket_name}/{file_key}\"\n",
    "\n",
    "                # Create output file path\n",
    "                output_file_path = os.path.join(output_folder, f\"{file_key.replace('/', '_')}_metadata.txt\")\n",
    "\n",
    "                # Save metadata to file\n",
    "                with open(output_file_path, 'w') as output_file:\n",
    "                    output_file.write(f\"Metadata for file: {file_key}\\n\")\n",
    "                    output_file.write(f\"  Last Modified: {last_modified}\\n\")\n",
    "                    output_file.write(f\"  ETag: {etag}\\n\")\n",
    "                    output_file.write(f\"  Content Type: {content_type}\\n\")\n",
    "                    output_file.write(f\"  Content Length: {content_length} bytes\\n\")\n",
    "                    output_file.write(f\"  S3 Link: {s3_link}\\n\")\n",
    "\n",
    "                print(f\"Metadata saved to {output_file_path}\")\n",
    "\n",
    "            except Exception as e:\n",
    "                print(f\"Error retrieving metadata for {file_key}: {e}\")\n",
    "\n",
    "except Exception as e:\n",
    "    print(f\"Error listing objects: {e}\")"
   ]
  },
  {
   "cell_type": "code",
   "execution_count": null,
   "id": "beea0249-22fb-481d-8841-7dfe74fa4aa1",
   "metadata": {},
   "outputs": [],
   "source": []
  }
 ],
 "metadata": {
  "kernelspec": {
   "display_name": "Python 3 (ipykernel)",
   "language": "python",
   "name": "python3"
  },
  "language_info": {
   "codemirror_mode": {
    "name": "ipython",
    "version": 3
   },
   "file_extension": ".py",
   "mimetype": "text/x-python",
   "name": "python",
   "nbconvert_exporter": "python",
   "pygments_lexer": "ipython3",
   "version": "3.9.18"
  }
 },
 "nbformat": 4,
 "nbformat_minor": 5
}
