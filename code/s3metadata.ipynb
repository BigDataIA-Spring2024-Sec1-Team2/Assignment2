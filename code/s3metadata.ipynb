{
 "cells": [
  {
   "cell_type": "markdown",
   "id": "cdd82068-72f1-4947-a37d-cad0e82aec59",
   "metadata": {},
   "source": [
    "# Computing metadata for s3 files"
   ]
  },
  {
   "cell_type": "markdown",
   "id": "103755a3-f9cf-4ef4-a07b-05f79352832f",
   "metadata": {},
   "source": [
    "## Importing required packages"
   ]
  },
  {
   "cell_type": "code",
   "execution_count": 25,
   "id": "2425b71f-c608-4940-84ab-9584c6e29a86",
   "metadata": {},
   "outputs": [],
   "source": [
    "import csv\n",
    "from collections import defaultdict\n",
    "import boto3\n",
    "import os\n",
    "from dotenv import load_dotenv"
   ]
  },
  {
   "cell_type": "markdown",
   "id": "8b02f20e-4df8-456d-bc73-cdab1f70179a",
   "metadata": {},
   "source": [
    "## Setting up environment"
   ]
  },
  {
   "cell_type": "code",
   "execution_count": 26,
   "id": "468074c2-ba17-49ee-96ec-9a57fdff6615",
   "metadata": {},
   "outputs": [
    {
     "data": {
      "text/plain": [
       "True"
      ]
     },
     "execution_count": 26,
     "metadata": {},
     "output_type": "execute_result"
    }
   ],
   "source": [
    "load_dotenv('../config/.env',override=True)"
   ]
  },
  {
   "cell_type": "code",
   "execution_count": 27,
   "id": "464671e9-ef3d-4a94-b1f5-823c21945ec7",
   "metadata": {},
   "outputs": [],
   "source": [
    "def loadenv():\n",
    "    s3_bucket_name = os.getenv(\"s3_bucket_name\")\n",
    "    s3_pypdf = os.getenv(\"s3_pypdf\")\n",
    "    s3_grobid = os.getenv(\"s3_grobid\")\n",
    "    access_key = os.getenv(\"access_key\")\n",
    "    secret_key = os.getenv(\"secret_key\")\n",
    "    region = os.getenv(\"region\")\n",
    "    return s3_bucket_name, s3_pypdf, s3_grobid, access_key, secret_key, region"
   ]
  },
  {
   "cell_type": "code",
   "execution_count": 28,
   "id": "54ad98c0-fe2a-4e94-b095-bdea436e1fae",
   "metadata": {},
   "outputs": [],
   "source": [
    "bucket_name, pypdf_folder_key, grobid_folder_key, access_key, secret_key, region = loadenv()\n",
    "output_csv_file = '../sample_output/metadata_output.csv'\n",
    "# Create an S3 client\n",
    "s3 = boto3.client('s3', aws_access_key_id=access_key, aws_secret_access_key=secret_key, region_name = region)"
   ]
  },
  {
   "cell_type": "markdown",
   "id": "868a3b46-4710-4b88-8caa-bff085d75951",
   "metadata": {},
   "source": [
    "## Generating metadata"
   ]
  },
  {
   "cell_type": "code",
   "execution_count": 29,
   "id": "f248dc21-d370-4aa7-8580-b71460926fd0",
   "metadata": {},
   "outputs": [
    {
     "name": "stdout",
     "output_type": "stream",
     "text": [
      "Metadata saved to ../sample_output/metadata_output.csv\n"
     ]
    }
   ],
   "source": [
    "# List objects for pypdf folder\n",
    "# pypdf_folder_key = 'pypdf/'\n",
    "try:\n",
    "    response_pypdf = s3.list_objects_v2(Bucket=bucket_name, Prefix=pypdf_folder_key)\n",
    "    pypdf_objects = response_pypdf.get('Contents', [])\n",
    "except Exception as e:\n",
    "    print(f\"Error listing pypdf objects: {e}\")\n",
    "    pypdf_objects = []\n",
    "\n",
    "# List objects for grobid folder\n",
    "# grobid_folder_key = 'grobid/'\n",
    "try:\n",
    "    response_grobid = s3.list_objects_v2(Bucket=bucket_name, Prefix=grobid_folder_key)\n",
    "    grobid_objects = response_grobid.get('Contents', [])\n",
    "except Exception as e:\n",
    "    print(f\"Error listing grobid objects: {e}\")\n",
    "    grobid_objects = []\n",
    "\n",
    "# Combine objects from both folders\n",
    "objects = pypdf_objects + grobid_objects\n",
    "\n",
    "# Process objects and store metadata\n",
    "pypdf_metadata = defaultdict(dict)\n",
    "grobid_metadata = defaultdict(dict)\n",
    "\n",
    "for obj in objects:\n",
    "    file_key = obj['Key']\n",
    "    if 'Grobid' in file_key:\n",
    "        row_name = file_key.split('_', 1)[1]\n",
    "        grobid_metadata[row_name]['File Key'] = row_name\n",
    "        grobid_metadata[row_name]['Last Modified'] = obj['LastModified']\n",
    "        grobid_metadata[row_name]['ETag'] = obj['ETag']\n",
    "        grobid_metadata[row_name]['Size'] = obj['Size']\n",
    "        grobid_metadata[row_name]['S3 Link'] = f\"https://{bucket_name}.s3.amazonaws.com/{file_key}\"\n",
    "        grobid_metadata[row_name]['File Type'] = file_key.split('.')[-1].lower()\n",
    "    elif 'PyPDF' in file_key:\n",
    "        row_name = file_key.split('_', 1)[1]\n",
    "        pypdf_metadata[row_name]['File Key'] = row_name\n",
    "        pypdf_metadata[row_name]['Last Modified'] = obj['LastModified']\n",
    "        pypdf_metadata[row_name]['ETag'] = obj['ETag']\n",
    "        pypdf_metadata[row_name]['Size'] = obj['Size']\n",
    "        pypdf_metadata[row_name]['S3 Link'] = f\"https://{bucket_name}.s3.amazonaws.com/{file_key}\"\n",
    "        pypdf_metadata[row_name]['File Type'] = file_key.split('.')[-1].lower()\n",
    "\n",
    "# Combine PyPDF and Grobid metadata into rows\n",
    "rows = []\n",
    "for row_name, grobid_info in grobid_metadata.items():\n",
    "    row = {}\n",
    "    row.update(grobid_info)\n",
    "    row.update(pypdf_metadata.get(row_name, {}))\n",
    "    rows.append(row)\n",
    "\n",
    "# Save metadata to CSV file\n",
    "with open(output_csv_file, 'w', newline='', encoding='utf-8') as csv_file:\n",
    "    fieldnames = ['File Key', 'Last Modified (Grobid)', 'ETag (Grobid)', 'Size (Grobid)', 'S3 Link (Grobid)', 'File Type (Grobid)',\n",
    "                  'Last Modified (PyPDF)', 'ETag (PyPDF)', 'Size (PyPDF)', 'S3 Link (PyPDF)', 'File Type (PyPDF)']\n",
    "    csv_writer = csv.DictWriter(csv_file, fieldnames=fieldnames)\n",
    "\n",
    "    # Write header row\n",
    "    csv_writer.writeheader()\n",
    "\n",
    "    # Write metadata for each row\n",
    "    for row in rows:\n",
    "        csv_writer.writerow({\n",
    "            'File Key': row.get('File Key', ''),\n",
    "            'Last Modified (Grobid)': row.get('Last Modified', ''),\n",
    "            'ETag (Grobid)': row.get('ETag', ''),\n",
    "            'Size (Grobid)': row.get('Size', ''),\n",
    "            'S3 Link (Grobid)': row.get('S3 Link', ''),\n",
    "            'File Type (Grobid)': row.get('File Type', ''),\n",
    "            'Last Modified (PyPDF)': row.get('Last Modified', ''),\n",
    "            'ETag (PyPDF)': row.get('ETag', ''),\n",
    "            'Size (PyPDF)': row.get('Size', ''),\n",
    "            'S3 Link (PyPDF)': row.get('S3 Link', ''),\n",
    "            'File Type (PyPDF)': row.get('File Type', ''),\n",
    "        })\n",
    "\n",
    "print(f\"Metadata saved to {output_csv_file}\")\n"
   ]
  },
  {
   "cell_type": "code",
   "execution_count": null,
   "id": "5d02679f-5848-42ed-8593-3f72df02ef0d",
   "metadata": {},
   "outputs": [],
   "source": []
  }
 ],
 "metadata": {
  "kernelspec": {
   "display_name": "Python 3 (ipykernel)",
   "language": "python",
   "name": "python3"
  },
  "language_info": {
   "codemirror_mode": {
    "name": "ipython",
    "version": 3
   },
   "file_extension": ".py",
   "mimetype": "text/x-python",
   "name": "python",
   "nbconvert_exporter": "python",
   "pygments_lexer": "ipython3",
   "version": "3.9.18"
  }
 },
 "nbformat": 4,
 "nbformat_minor": 5
}
