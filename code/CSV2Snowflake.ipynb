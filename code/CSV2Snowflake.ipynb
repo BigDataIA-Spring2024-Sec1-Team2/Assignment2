{
 "cells": [
  {
   "cell_type": "code",
   "execution_count": 1,
   "id": "e651f61c",
   "metadata": {},
   "outputs": [],
   "source": [
    "import warnings\n",
    "warnings.filterwarnings(\"ignore\")\n",
    "\n",
    "from sqlalchemy import Boolean, Column, Integer, String\n",
    "\n",
    "from sqlalchemy import create_engine\n",
    "from sqlalchemy.ext.declarative import declarative_base\n",
    "from dotenv import load_dotenv\n",
    "import os"
   ]
  },
  {
   "cell_type": "code",
   "execution_count": 2,
   "id": "fb2ba5c6",
   "metadata": {},
   "outputs": [
    {
     "data": {
      "text/plain": [
       "True"
      ]
     },
     "execution_count": 2,
     "metadata": {},
     "output_type": "execute_result"
    }
   ],
   "source": [
    "load_dotenv('../config/.env',override=True)"
   ]
  },
  {
   "cell_type": "code",
   "execution_count": 3,
   "id": "9af228c1",
   "metadata": {},
   "outputs": [],
   "source": [
    "def loadenv():\n",
    "    user = os.getenv(\"SNOWFLAKE_USER\")\n",
    "    password = os.getenv(\"SNOWFLAKE_PASSWORD\")\n",
    "    db = os.getenv(\"SNOWFLAKE_DATABASE\")\n",
    "    account_identifier = os.getenv(\"SNOWFLAKE_ACCOUNT_IDENTIFIER\")\n",
    "    wh = os.getenv(\"SNOWFLAKE_WAREHOUSE\")\n",
    "    return user,password ,db ,account_identifier,wh"
   ]
  },
  {
   "cell_type": "code",
   "execution_count": 4,
   "id": "78d83f30",
   "metadata": {},
   "outputs": [],
   "source": [
    "user , password, db, account_identifier, wh = loadenv()"
   ]
  },
  {
   "cell_type": "code",
   "execution_count": 5,
   "id": "32d9dab5",
   "metadata": {},
   "outputs": [],
   "source": [
    "def connectionToSnow(path='../config/.env',connection_test=False):\n",
    "    load_dotenv(path,override=True)\n",
    "    user, password, _, account_identifier,_ = loadenv()\n",
    "    engine = create_engine(\n",
    "        'snowflake://{user}:{password}@{account_identifier}/'.format(\n",
    "            user=user,\n",
    "            password=password,\n",
    "            account_identifier=account_identifier,\n",
    "        )\n",
    "    )\n",
    "    try:\n",
    "        connection = engine.connect()\n",
    "        results = connection.execute('select current_version()').fetchone()\n",
    "        print(results[0])\n",
    "        if connection_test:\n",
    "            connection.close()\n",
    "        else:\n",
    "            return connection\n",
    "    finally:\n",
    "        engine.dispose()\n",
    "    "
   ]
  },
  {
   "cell_type": "code",
   "execution_count": 6,
   "id": "287e6e5c",
   "metadata": {},
   "outputs": [
    {
     "name": "stdout",
     "output_type": "stream",
     "text": [
      "8.5.2\n"
     ]
    }
   ],
   "source": [
    "connection = connectionToSnow()"
   ]
  },
  {
   "cell_type": "code",
   "execution_count": 7,
   "id": "bc4df2ad",
   "metadata": {},
   "outputs": [],
   "source": [
    "def execute(connection,query):\n",
    "    try:\n",
    "        results = connection.execute(query)\n",
    "    except Exception as e:\n",
    "        print(\"error-->\",e)\n",
    "    finally:\n",
    "        print(\"Done\")\n",
    "        \n",
    "def execute_query(connection,query):\n",
    "    try:\n",
    "        results = connection.execute(query)\n",
    "    except Exception as e:\n",
    "        print(\"error-->\",e)\n",
    "    finally:\n",
    "        print(\"Done\")"
   ]
  },
  {
   "cell_type": "markdown",
   "id": "1aff2a9f",
   "metadata": {},
   "source": [
    "## execute statements "
   ]
  },
  {
   "cell_type": "code",
   "execution_count": 9,
   "id": "e3dc924a",
   "metadata": {},
   "outputs": [],
   "source": [
    "\n",
    "drop_database_query = '''DROP DATABASE IF EXISTS {};'''.format(db)\n",
    "\n",
    "create_database_query = \"CREATE OR REPLACE DATABASE {};\".format(db)\n",
    "create_warehouse = \"\"\"CREATE OR REPLACE WAREHOUSE {} WITH\n",
    "   WAREHOUSE_SIZE='X-SMALL'\n",
    "   AUTO_SUSPEND = 180\n",
    "   AUTO_RESUME = TRUE\n",
    "   INITIALLY_SUSPENDED=TRUE;\n",
    "   \"\"\".format(wh)\n",
    "drop_web_data_table = '''DROP TABLE IF EXISTS {};'''.format('CFA_WEB_DATA_R')\n",
    "create_web_data_table = '''CREATE TABLE {} (\n",
    "    pdf_link VARCHAR,\n",
    "    Parent_topic VARCHAR,\n",
    "    year VARCHAR,\n",
    "    level VARCHAR,\n",
    "    Introduction VARCHAR,\n",
    "    LearningOutcome VARCHAR,\n",
    "    Summary VARCHAR,\n",
    "    categories VARCHAR, \n",
    "    url VARCHAR,\n",
    "    topicName VARCHAR\n",
    ");'''.format('CFA_WEB_DATA_R')\n",
    "\n",
    "current_directory = os.getcwd()\n",
    "# Get the parent directory\n",
    "parent_directory = os.path.dirname(current_directory)\n",
    "\n",
    "new_file_path = parent_directory + \"/sample_output/\"\n",
    "\n",
    "\n",
    "create_stage = \"\"\"CREATE OR REPLACE STAGE DUMMY DIRECTORY = ( ENABLE = true );\"\"\"\n",
    "upload_to_stage  = \"\"\"PUT file://{}*.csv @{}.public.dummy;\"\"\".format(new_file_path,db)\n",
    "\n",
    "copy_stage_to_table = \"\"\"COPY INTO {}\n",
    "  FROM @{}.public.dummy\n",
    "  FILE_FORMAT = (type = csv field_optionally_enclosed_by='\"')\n",
    "  PATTERN = 'FinanceHub.csv.gz'\n",
    "  ON_ERROR = 'skip_file';\"\"\".format('CFA_WEB_DATA_R',db,)\n"
   ]
  },
  {
   "cell_type": "code",
   "execution_count": null,
   "id": "231a5188",
   "metadata": {},
   "outputs": [],
   "source": []
  },
  {
   "cell_type": "code",
   "execution_count": null,
   "id": "c555c3b3",
   "metadata": {},
   "outputs": [],
   "source": [
    "\n",
    "\n",
    "# Get the parent directory\n",
    "parent_directory = os.path.dirname(current_directory)\n",
    "new_file_path = parent_directory + \"/sample_output/\"\n",
    "\n",
    "print(\"Current Directory:\", current_directory)\n",
    "print(\"Parent Directory:\", parent_directory)\n",
    "print('file path:',new_file_path)"
   ]
  },
  {
   "cell_type": "code",
   "execution_count": 10,
   "id": "79bf47f2",
   "metadata": {},
   "outputs": [
    {
     "name": "stdout",
     "output_type": "stream",
     "text": [
      "Done\n",
      "Done\n",
      "Done\n",
      "Done\n",
      "Done\n",
      "Done\n",
      "Done\n",
      "Done\n"
     ]
    }
   ],
   "source": [
    "execute(connection, drop_database_query)\n",
    "execute(connection, create_database_query)\n",
    "execute(connection, create_warehouse)\n",
    "\n",
    "execute(connection, drop_web_data_table)\n",
    "execute(connection, create_web_data_table)\n",
    "\n",
    "\n",
    "execute(connection, create_stage)\n",
    "execute(connection, upload_to_stage)\n",
    "execute(connection, copy_stage_to_table)"
   ]
  },
  {
   "cell_type": "code",
   "execution_count": null,
   "id": "7b6d5f40",
   "metadata": {},
   "outputs": [],
   "source": []
  },
  {
   "cell_type": "code",
   "execution_count": null,
   "id": "fe1aa12b",
   "metadata": {},
   "outputs": [],
   "source": []
  }
 ],
 "metadata": {
  "kernelspec": {
   "display_name": "Python 3.9 (pytorch)",
   "language": "python",
   "name": "pytorch"
  },
  "language_info": {
   "codemirror_mode": {
    "name": "ipython",
    "version": 3
   },
   "file_extension": ".py",
   "mimetype": "text/x-python",
   "name": "python",
   "nbconvert_exporter": "python",
   "pygments_lexer": "ipython3",
   "version": "3.9.7"
  }
 },
 "nbformat": 4,
 "nbformat_minor": 5
}
